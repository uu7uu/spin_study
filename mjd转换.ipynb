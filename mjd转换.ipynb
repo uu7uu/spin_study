{
 "cells": [
  {
   "cell_type": "code",
   "execution_count": 35,
   "id": "755696da",
   "metadata": {},
   "outputs": [
    {
     "data": {
      "text/plain": [
       "array([58520.41416667, 58520.21162037])"
      ]
     },
     "execution_count": 35,
     "metadata": {},
     "output_type": "execute_result"
    }
   ],
   "source": [
    "import numpy as np\n",
    "from astropy.time import Time\n",
    "times = ['2019-02-06T09:56:24', '2019-02-06T05:04:44']\n",
    "t = Time(times, format='isot', scale='utc')\n",
    "t\n",
    "t.mjd"
   ]
  },
  {
   "cell_type": "code",
   "execution_count": 21,
   "id": "6688c7c0",
   "metadata": {},
   "outputs": [
    {
     "data": {
      "text/plain": [
       "array([58527.46087963, 58527.59344907])"
      ]
     },
     "execution_count": 21,
     "metadata": {},
     "output_type": "execute_result"
    }
   ],
   "source": []
  },
  {
   "cell_type": "code",
   "execution_count": null,
   "id": "4aba4b65",
   "metadata": {},
   "outputs": [],
   "source": []
  }
 ],
 "metadata": {
  "kernelspec": {
   "display_name": "Python 3 (ipykernel)",
   "language": "python",
   "name": "python3"
  },
  "language_info": {
   "codemirror_mode": {
    "name": "ipython",
    "version": 3
   },
   "file_extension": ".py",
   "mimetype": "text/x-python",
   "name": "python",
   "nbconvert_exporter": "python",
   "pygments_lexer": "ipython3",
   "version": "3.9.12"
  }
 },
 "nbformat": 4,
 "nbformat_minor": 5
}
