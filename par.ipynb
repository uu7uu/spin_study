{
 "cells": [
  {
   "cell_type": "code",
   "execution_count": 9,
   "metadata": {},
   "outputs": [],
   "source": [
    "import numpy as np\n",
    "from astropy.io import fits\n",
    "import pandas as pd\n",
    "import matplotlib.pyplot as plt\n",
    "import scipy.stats as st"
   ]
  },
  {
   "cell_type": "code",
   "execution_count": 10,
   "metadata": {},
   "outputs": [],
   "source": [
    "total = 4\n",
    "#倾角\n",
    "u1 = 60\n",
    "sigma1 = 5 \n",
    "#距离\n",
    "u2 = 8.6\n",
    "sigma2 = 1.6\n",
    "#质量\n",
    "u3 = 12.4\n",
    "sigma3 = 1.8\n"
   ]
  },
  {
   "cell_type": "code",
   "execution_count": 11,
   "metadata": {},
   "outputs": [],
   "source": [
    "i = np.random.normal(u1,sigma1/3,total)\n",
    "d = np.random.normal(u2,sigma2/3,total)\n",
    "m = np.random.normal(u3,sigma3/3,total)"
   ]
  },
  {
   "cell_type": "code",
   "execution_count": 12,
   "metadata": {},
   "outputs": [],
   "source": [
    "#根据质量函数求黑洞质量\n",
    "ms = np.random.normal(0.28, 1/3, 3000) #生成高斯分布随机数\n",
    "inc=i*np.pi/180\n",
    "#f = m**3*np.sin(inc)**3/(ms+m)**2"
   ]
  },
  {
   "cell_type": "code",
   "execution_count": 13,
   "metadata": {},
   "outputs": [],
   "source": [
    "data = np.vstack([m,i,d]) #沿着竖着的方向堆叠矩阵\n",
    "d = data.T\n"
   ]
  },
  {
   "cell_type": "code",
   "execution_count": 14,
   "metadata": {},
   "outputs": [],
   "source": [
    "np.savetxt(\"par.txt\",d,fmt='%f',delimiter=' ')"
   ]
  },
  {
   "cell_type": "code",
   "execution_count": null,
   "metadata": {},
   "outputs": [],
   "source": []
  },
  {
   "cell_type": "code",
   "execution_count": 15,
   "metadata": {},
   "outputs": [
    {
     "data": {
      "text/plain": [
       "array([8.26794973, 9.38814705, 8.6108864 , 8.5150367 , 8.53261394,\n",
       "       8.04363816, 8.79054112, 8.77019261, 7.87552474, 8.57192914])"
      ]
     },
     "execution_count": 15,
     "metadata": {},
     "output_type": "execute_result"
    },
    {
     "data": {
      "image/png": "[encoded data removed]",
      "text/plain": [
       "<Figure size 432x288 with 1 Axes>"
      ]
     },
     "metadata": {
      "needs_background": "light"
     },
     "output_type": "display_data"
    }
   ],
   "source": [
    "#随机数生成的例子\n",
    "i = np.random.normal(8.6,1.6/3,10)\n",
    "i_fit = np.linspace(i.min(), i.max())\n",
    "plt.plot(i_fit, st.norm(8.6, 1.6/3).pdf(i_fit), lw=2, c='r')\n",
    "i"
   ]
  }
 ],
 "metadata": {
  "kernelspec": {
   "display_name": "Python 3.9.12 ('base')",
   "language": "python",
   "name": "python3"
  },
  "language_info": {
   "codemirror_mode": {
    "name": "ipython",
    "version": 3
   },
   "file_extension": ".py",
   "mimetype": "text/x-python",
   "name": "python",
   "nbconvert_exporter": "python",
   "pygments_lexer": "ipython3",
   "version": "3.9.12"
  },
  "orig_nbformat": 4,
  "vscode": {
   "interpreter": {
    "hash": "2e66cb8045b3dba5c242caa505725e62e2c4b9c4b39f0cfcc1fa202066eb6129"
   }
  }
 },
 "nbformat": 4,
 "nbformat_minor": 2
}
