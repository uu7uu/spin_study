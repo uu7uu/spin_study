{
 "cells": [
  {
   "cell_type": "code",
   "execution_count": 4,
   "metadata": {},
   "outputs": [],
   "source": [
    "import numpy as np\n",
    "import stingray"
   ]
  },
  {
   "cell_type": "code",
   "execution_count": 6,
   "metadata": {},
   "outputs": [
    {
     "data": {
      "text/plain": [
       "True"
      ]
     },
     "execution_count": 6,
     "metadata": {},
     "output_type": "execute_result"
    }
   ],
   "source": [
    "time = np.arange(0, 10, 0.1)\n",
    "counts = np.zeros_like(time) + 10\n",
    "lc = stingray.Lightcurve(time, counts, dt=0.1)\n",
    "# Define a function that calculates the mean\n",
    "mean_func = lambda x: np.mean(x)\n",
    "# Calculate the mean in segments of 5 seconds\n",
    "start, stop, res = lc.analyze_lc_chunks(5, mean_func)\n",
    "len(res) == 2\n",
    "\n",
    "np.allclose(res, 10)"
   ]
  }
 ],
 "metadata": {
  "kernelspec": {
   "display_name": "Python 3.10.10",
   "language": "python",
   "name": "python3"
  },
  "language_info": {
   "codemirror_mode": {
    "name": "ipython",
    "version": 3
   },
   "file_extension": ".py",
   "mimetype": "text/x-python",
   "name": "python",
   "nbconvert_exporter": "python",
   "pygments_lexer": "ipython3",
   "version": "3.10.10"
  },
  "orig_nbformat": 4,
  "vscode": {
   "interpreter": {
    "hash": "8c5464f36f410d50953d1f1cec9a28ba12267abfb490df8c2c843452f5ff7e74"
   }
  }
 },
 "nbformat": 4,
 "nbformat_minor": 2
}
