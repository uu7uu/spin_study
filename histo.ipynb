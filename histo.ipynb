{
 "cells": [
  {
   "cell_type": "code",
   "execution_count": 16,
   "metadata": {},
   "outputs": [],
   "source": [
    "import matplotlib.pyplot as plt\n",
    "import numpy as np\n",
    "import matplotlib"
   ]
  },
  {
   "cell_type": "code",
   "execution_count": 17,
   "metadata": {},
   "outputs": [],
   "source": [
    "\n",
    "data = []\n",
    "with open(\"spin1.txt\", \"r\") as f:  # 打开文件\n",
    "    for eachline in f.readlines():\n",
    "        data.append(float(eachline.split()[3]))\n",
    "f.close()\n"
   ]
  },
  {
   "cell_type": "code",
   "execution_count": 18,
   "metadata": {},
   "outputs": [],
   "source": [
    "with open(\"spin_result.txt\", \"r\") as f:  # 打开文件\n",
    "    for eachline in f.readlines():\n",
    "        data.append(float(eachline.split()[0]))\n",
    "f.close()"
   ]
  },
  {
   "cell_type": "code",
   "execution_count": 19,
   "metadata": {},
   "outputs": [
    {
     "name": "stdout",
     "output_type": "stream",
     "text": [
      "3374\n",
      "[0.99793065 0.998      0.998     ]\n"
     ]
    },
    {
     "data": {
      "text/plain": [
       "0.9976511189999999"
      ]
     },
     "execution_count": 19,
     "metadata": {},
     "output_type": "execute_result"
    }
   ],
   "source": [
    "print (len(data))   \n",
    "sigma_3 = np.percentile(data, [0.15, 50, 99.85], axis=0) \n",
    "sigma_2 = np.percentile(data, [2.5, 50, 97.5], axis=0)   \n",
    "sigma_1 = np.percentile(data, [16, 50, 84], axis=0)   \n",
    "\n",
    "cf90 = np.percentile(data, [5, 50, 95], axis=0)  #90%置信区间\n",
    "\n",
    "print(cf90)\n",
    "mu=cf90[1]\n",
    "lb=cf90[0]-cf90[1]\n",
    "ub=cf90[2]-cf90[1]\n",
    "s1 = sigma_1[0]\n",
    "s2 = sigma_2[0]\n",
    "s3 = sigma_3[0]\n",
    "s3"
   ]
  },
  {
   "cell_type": "code",
   "execution_count": 23,
   "metadata": {},
   "outputs": [
    {
     "data": {
      "image/png": "[encoded data removed]",
      "text/plain": [
       "<Figure size 720x576 with 1 Axes>"
      ]
     },
     "metadata": {
      "needs_background": "light"
     },
     "output_type": "display_data"
    }
   ],
   "source": [
    "plt.figure(figsize=(10,8))\n",
    "ax = plt.subplot(111)\n",
    "plt.hist(data,bins=10,facecolor=\"royalblue\",edgecolor=\"black\",alpha=0.8)\n",
    "\n",
    "ax.axvline(x=s1,linewidth=1,color=\"orange\",linestyle='--',lw=2.0,label=r'$1-\\sigma$')\n",
    "ax.axvline(x=s2,linewidth=1,color=\"green\",linestyle='--',lw=2.0,label=r'$2-\\sigma$')\n",
    "ax.axvline(x=s3,linewidth=1,color=\"red\",linestyle='--',lw=2.0,label=r'$3-\\sigma$')\n",
    "plt.legend()\n",
    "\n",
    "plt.xlim([0.9976, 0.99805])\n",
    "plt.text(s3,500,r'$a_{{*}}>{:.5f}$'.format(s3) ,ha='center', va='bottom', fontsize=12,bbox=dict(fc='white',ec='white'))\n",
    "plt.title(r\"$a_{{*}}={:.4f}^{{{:+.4f}}}_{{{:-.4f}}}$\".format(mu,ub,lb))\n",
    "\n",
    "plt.xlabel(r\"$a_{*}$\")\n",
    "plt.ylabel(r\"N\")\n",
    "\n",
    "plt.show()"
   ]
  },
  {
   "cell_type": "code",
   "execution_count": null,
   "metadata": {},
   "outputs": [],
   "source": []
  }
 ],
 "metadata": {
  "kernelspec": {
   "display_name": "Python 3.9.12 ('base')",
   "language": "python",
   "name": "python3"
  },
  "language_info": {
   "codemirror_mode": {
    "name": "ipython",
    "version": 3
   },
   "file_extension": ".py",
   "mimetype": "text/x-python",
   "name": "python",
   "nbconvert_exporter": "python",
   "pygments_lexer": "ipython3",
   "version": "3.9.12"
  },
  "orig_nbformat": 4,
  "vscode": {
   "interpreter": {
    "hash": "2e66cb8045b3dba5c242caa505725e62e2c4b9c4b39f0cfcc1fa202066eb6129"
   }
  }
 },
 "nbformat": 4,
 "nbformat_minor": 2
}
