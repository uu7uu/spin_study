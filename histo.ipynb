{
 "cells": [
  {
   "cell_type": "code",
   "execution_count": 1,
   "metadata": {},
   "outputs": [],
   "source": [
    "import matplotlib.pyplot as plt\n",
    "import numpy as np\n",
    "import matplotlib"
   ]
  },
  {
   "cell_type": "code",
   "execution_count": 78,
   "metadata": {},
   "outputs": [
    {
     "name": "stdout",
     "output_type": "stream",
     "text": [
      "[0.998, 0.998, 0.998, 0.997835, 0.997846, 0.997901, 0.998, 0.998, 0.998, 0.998, 0.998, 0.998, 0.998, 0.998, 0.998, 0.998, 0.998, 0.998, 0.998, 0.997993, 0.998, 0.998, 0.998, 0.997931, 0.998, 0.998, 0.998, 0.998, 0.998, 0.997768, 0.998, 0.998]\n",
      "[0.99783031 0.998      0.998     ]\n"
     ]
    },
    {
     "data": {
      "text/plain": [
       "-0.00016969000000000012"
      ]
     },
     "execution_count": 78,
     "metadata": {},
     "output_type": "execute_result"
    }
   ],
   "source": [
    "\n",
    "data = []\n",
    "with open(\"spin_result.txt\", \"r\") as f:  # 打开文件\n",
    "    for eachline in f.readlines():\n",
    "        data.append(float(eachline.split()[0]))\n",
    "f.close()\n",
    "print(data)    \n",
    "q = np.percentile(data, [3, 50, 97], axis=0)   \n",
    "print(q)\n",
    "mu=q[0]\n",
    "lb=q[0]-q[1]\n",
    "ub=q[2]-q[1]\n",
    "lb"
   ]
  },
  {
   "cell_type": "code",
   "execution_count": 86,
   "metadata": {},
   "outputs": [
    {
     "data": {
      "image/png": "[encoded data removed]",
      "text/plain": [
       "<Figure size 720x576 with 1 Axes>"
      ]
     },
     "metadata": {
      "needs_background": "light"
     },
     "output_type": "display_data"
    }
   ],
   "source": [
    "plt.figure(figsize=(10,8))\n",
    "ax = plt.subplot(111)\n",
    "plt.hist(data,bins=10,facecolor=\"royalblue\",edgecolor=\"black\",alpha=0.7)\n",
    "ax.axvline(x=q[1],linewidth=1,color=\"red\",linestyle='--')\n",
    "ax.axvline(x=q[0],linewidth=1,color=\"orange\",linestyle='--')\n",
    "ax.axvline(x=q[2],linewidth=1,color=\"orange\",linestyle='--')\n",
    "plt.xlabel(r\"spin\")\n",
    "plt.ylabel(r\"N\")\n",
    "plt.title(r\"$a_{{*}}={:.4f}^{{{:+.4f}}}_{{{:-.4f}}}$\".format(mu,ub,lb))\n",
    "plt.show()"
   ]
  },
  {
   "cell_type": "code",
   "execution_count": null,
   "metadata": {},
   "outputs": [],
   "source": [
    "{}"
   ]
  }
 ],
 "metadata": {
  "kernelspec": {
   "display_name": "Python 3.9.12 ('base')",
   "language": "python",
   "name": "python3"
  },
  "language_info": {
   "codemirror_mode": {
    "name": "ipython",
    "version": 3
   },
   "file_extension": ".py",
   "mimetype": "text/x-python",
   "name": "python",
   "nbconvert_exporter": "python",
   "pygments_lexer": "ipython3",
   "version": "3.9.12"
  },
  "orig_nbformat": 4,
  "vscode": {
   "interpreter": {
    "hash": "2e66cb8045b3dba5c242caa505725e62e2c4b9c4b39f0cfcc1fa202066eb6129"
   }
  }
 },
 "nbformat": 4,
 "nbformat_minor": 2
}
